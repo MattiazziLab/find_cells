{
 "cells": [
  {
   "cell_type": "code",
   "execution_count": null,
   "metadata": {},
   "outputs": [],
   "source": [
    "import numpy as np\n",
    "from skimage.transform import hough_circle, hough_circle_peaks\n",
    "from skimage.feature import canny\n",
    "from skimage.draw import circle_perimeter, circle\n",
    "from pathlib import Path\n",
    "\n",
    "%pylab inline\n",
    "\n",
    "from skimage.io import imread, imshow, imsave"
   ]
  },
  {
   "cell_type": "code",
   "execution_count": null,
   "metadata": {},
   "outputs": [],
   "source": [
    "def overlap(x1, y1, r1, x2, y2, r2):\n",
    "    \"\"\"\n",
    "        Check if distance between two circle centres is less \n",
    "        than the sum of the radii (they are overlapping)\n",
    "    \n",
    "        :param x1: X-coordinate of circle 1\n",
    "        :param y1: Y-coordinate of circle 1\n",
    "        :param r1: radius of circle 1\n",
    "        :param x2: X-coordinate of circle 2\n",
    "        :param y2: Y-coordinate of circle 2\n",
    "        :param r2: radius of circle 2\n",
    "        :type x1: float\n",
    "        :type y1: float\n",
    "        :type r1: float\n",
    "        :type x2: float\n",
    "        :type y2: float\n",
    "        :type r2: float\n",
    "        :rtype: bool\n",
    "        :return: Are two circles overlapping\n",
    "    \"\"\"\n",
    "    dist = sqrt((x1 - x2)**2 + (y1 - y2)**2) * 1.05\n",
    "    return dist < r1 + r2"
   ]
  },
  {
   "cell_type": "code",
   "execution_count": null,
   "metadata": {},
   "outputs": [],
   "source": [
    "in_dir = Path('/PATH/TO/INPUT/FOLDER/')\n",
    "\n",
    "out_dir = Path('/PATH/TO/LABEL/OUTPUT/FOLDER/')\n",
    "out_dir.mkdir(exist_ok=True)\n",
    "\n",
    "outline_dir = Path('/PATH/TO/OUTLINE/OUTPUT/FOLDER/')\n",
    "outline_dir.mkdir(exist_ok=True)"
   ]
  },
  {
   "cell_type": "code",
   "execution_count": null,
   "metadata": {
    "scrolled": false
   },
   "outputs": [],
   "source": [
    "for f in sorted(in_dir.glob('*tif')):\n",
    "    im = imread(f, as_gray=True)\n",
    "    edges = canny(im)\n",
    "    \n",
    "    imshow(edges)\n",
    "    gcf().set_size_inches(10, 10)\n",
    "    show()\n",
    "    \n",
    "    hough_radii = np.arange(20, 120, 3)  # adjust parameters for batch of images (min, max radius; step size)\n",
    "    hough_res = hough_circle(edges, hough_radii)\n",
    "    \n",
    "    accums, cx, cy, radii = hough_circle_peaks(\n",
    "        hough_res, \n",
    "        hough_radii, \n",
    "        total_num_peaks=40,  # Expected number of cells in image\n",
    "        min_ydistance=20,  # Expected minimum cell radius (in pixels)\n",
    "        min_xdistance=20)  # Expected minimum cell radius (in pixels)\n",
    "\n",
    "    accepted = []\n",
    "    mask = zeros(im.shape, dtype=np.int8)\n",
    "    label = 1\n",
    "\n",
    "    for center_y, center_x, radius in zip(cy, cx, radii):\n",
    "        good = True\n",
    "\n",
    "        for accy, accx, accr in accepted:\n",
    "            if overlap(center_x, center_y, radius, accx, accy, accr):\n",
    "                good = False\n",
    "\n",
    "        if not good:\n",
    "            continue\n",
    "\n",
    "        accepted.append((center_y, center_x, radius))\n",
    "\n",
    "        circy, circx = circle_perimeter(center_y, center_x, radius, shape=im.shape)\n",
    "        im[circy, circx] = 1\n",
    "\n",
    "        masky, maskx = circle(center_y, center_x, radius, shape=im.shape)\n",
    "        mask[masky, maskx] = label\n",
    "        label += 1\n",
    "\n",
    "    imshow(im)\n",
    "    gcf().set_size_inches(10, 10)\n",
    "    show()\n",
    "    imsave(outline_dir / (f.stem + '.png'), im)\n",
    "    \n",
    "    imsave(out_dir / f.name, mask)"
   ]
  }
 ],
 "metadata": {
  "kernelspec": {
   "display_name": "Python 3",
   "language": "python",
   "name": "python3"
  },
  "language_info": {
   "codemirror_mode": {
    "name": "ipython",
    "version": 3
   },
   "file_extension": ".py",
   "mimetype": "text/x-python",
   "name": "python",
   "nbconvert_exporter": "python",
   "pygments_lexer": "ipython3",
   "version": "3.9.7"
  }
 },
 "nbformat": 4,
 "nbformat_minor": 4
}
